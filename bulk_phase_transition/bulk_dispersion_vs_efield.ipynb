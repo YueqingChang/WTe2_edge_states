{
 "cells": [
  {
   "cell_type": "code",
   "execution_count": 1,
   "metadata": {},
   "outputs": [],
   "source": [
    "import numpy as np\n",
    "import tbmodels\n",
    "import h5py"
   ]
  },
  {
   "cell_type": "code",
   "execution_count": 2,
   "metadata": {},
   "outputs": [],
   "source": [
    "def apply_efield(h0,efield,z_pos):\n",
    "    h = h0.copy()\n",
    "    for i in np.arange(h0.shape[0]):\n",
    "        h[i,i] = h0[i,i]+efield*z_pos[i]\n",
    "    return h\n",
    "\n",
    "def find_efermi_bands(eigvals_all, nfilling):\n",
    "    vbm = eigvals_all[:,nfilling-1].max()    \n",
    "    cbm = eigvals_all[:,nfilling].min()\n",
    "    return vbm, cbm, (vbm+cbm)/2\n",
    "\n",
    "def find_splitted_cbm_edges(eigvals_all, nfilling):\n",
    "    cbm1 = eigvals_all[:,nfilling].min()\n",
    "    # find the corresponding index of k\n",
    "    k_cbm1 = np.argmin(eigvals_all[:,nfilling]) \n",
    "\n",
    "    cbm2 = eigvals_all[:,nfilling+1].min()\n",
    "    # find the corresponding index of k\n",
    "    k_cbm2 = np.argmin(eigvals_all[:,nfilling+1])\n",
    "    return k_cbm1, k_cbm2, cbm1, cbm2"
   ]
  },
  {
   "cell_type": "code",
   "execution_count": 3,
   "metadata": {},
   "outputs": [],
   "source": [
    "nwann = 56\n",
    "nfilling = 36\n",
    "\n",
    "wpath = f\"../tb_model/model_o{nwann}/\"\n",
    "\n",
    "model = tbmodels.Model.from_wannier_files(\n",
    "            hr_file = f'{wpath}/wte2.o{nwann}_hr.dat',\n",
    "            xyz_file = f'{wpath}/wte2.o{nwann}_centres.xyz',\n",
    "            win_file = f'{wpath}/wte2.o{nwann}.win')\n",
    "\n",
    "# apply on-site electric fields to the wannier orbitals\n",
    "c = 6.576*4.0316*0.529177\n",
    "z_pos = model.pos[:,2]*c\n",
    "\n",
    "z_pos_sym = z_pos.copy()\n",
    "for iz in np.arange(z_pos.shape[0]):\n",
    "    z_pos_sym[iz] = 0.5*(z_pos[iz]+z_pos[iz+(-1)**(iz%2)])"
   ]
  },
  {
   "cell_type": "code",
   "execution_count": 4,
   "metadata": {},
   "outputs": [],
   "source": [
    "# generate a list of k points along the -X-Gamma-X path\n",
    "nk = 101\n",
    "kx_list = np.linspace(-0.5,0.5,nk)\n",
    "k_list = [[kx,0,0] for kx in kx_list]"
   ]
  },
  {
   "cell_type": "code",
   "execution_count": 6,
   "metadata": {},
   "outputs": [
    {
     "name": "stdout",
     "output_type": "stream",
     "text": [
      "efield, efermi, cbm, cbm1, cbm2:\n",
      "-0.5 -1.2299713816153979 -1.2147189931206148 -1.2147189931206148 -0.9330698268753133\n",
      "-0.35 -0.16649843697765065 -0.1714154056118108 -0.1714154056118108 0.06805219830348028\n",
      "-0.3 0.1939483756608003 0.18950477240832025 0.18950477240832025 0.4021101093658835\n",
      "-0.2 0.9211341365594877 0.9259214297531912 0.9259214297531912 1.071853569475122\n",
      "-0.15 1.286440163558138 1.2982165976391673 1.2982165976391673 1.4076499201969281\n",
      "-0.1 1.6521642731345825 1.6720483787734672 1.6720483787734672 1.7441598602081116\n",
      "-0.05 2.018087194156686 2.0469832897439644 2.0469832897439644 2.0814810271448194\n",
      "0.0 2.3825020706388162 2.419610652255581 2.419610652255581 2.4202490675936534\n",
      "0.05 2.729710377689674 2.758534524815379 2.758534524815379 2.7941288135081814\n",
      "0.1 3.0757152781904633 3.0957604281159155 3.0957604281159155 3.1690720636197542\n",
      "0.15 3.4219315797698693 3.4341151220402466 3.4341151220402466 3.5448397206870372\n",
      "0.2 3.768758576073611 3.774066322192018 3.774066322192018 3.921340622113818\n",
      "0.3 4.4657253166413735 4.462561201111702 4.462561201111702 4.676270091097204\n",
      "0.35 4.817502850291614 4.814394739461804 4.814394739461804 5.0545958540311915\n",
      "0.5 5.890618010607989 5.9087806572915 5.9087806572915 6.191126783122132\n"
     ]
    }
   ],
   "source": [
    "# generate the band structure on a given k-path for the following efields\n",
    "efields = [-0.5, -0.35, -0.3, -0.2, -0.15, -0.1, -0.05, 0.0, 0.05, 0.1, 0.15, 0.2, 0.3, 0.35, 0.5]\n",
    "\n",
    "with h5py.File(\"./data/bulk_bands_efields.h5\", 'w') as f:\n",
    "    f.create_dataset(\"kx_list\", data=kx_list)\n",
    "    for efield in efields:\n",
    "        h0_k = model.hamilton(k_list)\n",
    "        h_k = [apply_efield(h0,efield,z_pos) for h0 in h0_k]\n",
    "        eigvals, eigvecs = np.linalg.eigh(h_k)\n",
    "        vbm, cbm, efermi = find_efermi_bands(eigvals, nfilling)\n",
    "        k_cbm1, k_cbm2, cbm1, cbm2 = find_splitted_cbm_edges(eigvals, nfilling)\n",
    "        if efield == -0.5:\n",
    "            print(\"efield, efermi, cbm, cbm1, cbm2:\")\n",
    "        print(efield, efermi, cbm, cbm1, cbm2)\n",
    "        # save the eigvals and eigvecs to the file\n",
    "        f.create_dataset(f\"e{efield}/eigvals\", data=eigvals-efermi)\n",
    "        f.create_dataset(f\"e{efield}/eigvecs\", data=eigvecs)\n",
    "        f.create_dataset(f\"e{efield}/vbm\", data=vbm-efermi)\n",
    "        f.create_dataset(f\"e{efield}/cbm\", data=cbm-efermi)\n",
    "        f.create_dataset(f\"e{efield}/efermi\", data=efermi)\n",
    "        f.create_dataset(f\"e{efield}/cbm1\", data=cbm1-efermi)\n",
    "        f.create_dataset(f\"e{efield}/cbm2\", data=cbm2-efermi)\n",
    "        f.create_dataset(f\"e{efield}/k_cbm1_index\", data=k_cbm1)\n",
    "        f.create_dataset(f\"e{efield}/k_cbm2_index\", data=k_cbm2)\n"
   ]
  }
 ],
 "metadata": {
  "kernelspec": {
   "display_name": "pyqmc_dev",
   "language": "python",
   "name": "python3"
  },
  "language_info": {
   "codemirror_mode": {
    "name": "ipython",
    "version": 3
   },
   "file_extension": ".py",
   "mimetype": "text/x-python",
   "name": "python",
   "nbconvert_exporter": "python",
   "pygments_lexer": "ipython3",
   "version": "3.9.7"
  }
 },
 "nbformat": 4,
 "nbformat_minor": 2
}
