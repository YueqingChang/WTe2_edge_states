{
 "cells": [
  {
   "cell_type": "code",
   "execution_count": 1,
   "metadata": {},
   "outputs": [],
   "source": [
    "import numpy as np\n",
    "import tbmodels\n",
    "import h5py"
   ]
  },
  {
   "cell_type": "code",
   "execution_count": 2,
   "metadata": {},
   "outputs": [],
   "source": [
    "def apply_efield(h0,efield,z_pos):\n",
    "    h = h0.copy()\n",
    "    for i in np.arange(h0.shape[0]):\n",
    "        h[i,i] = h0[i,i]+efield*z_pos[i]\n",
    "    return h\n",
    "\n",
    "def find_efermi_bands(eigvals_all, nfilling):\n",
    "    vbm = eigvals_all[:,nfilling-1].max()    \n",
    "    cbm = eigvals_all[:,nfilling].min()\n",
    "    return vbm, cbm, (vbm+cbm)/2"
   ]
  },
  {
   "cell_type": "code",
   "execution_count": 3,
   "metadata": {},
   "outputs": [],
   "source": [
    "nwann = 56\n",
    "nfilling = 36\n",
    "\n",
    "wpath = f\"../tb_model/model_o{nwann}/\"\n",
    "\n",
    "model = tbmodels.Model.from_wannier_files(\n",
    "            hr_file = f'{wpath}/wte2.o{nwann}_hr.dat',\n",
    "            xyz_file = f'{wpath}/wte2.o{nwann}_centres.xyz',\n",
    "            win_file = f'{wpath}/wte2.o{nwann}.win')\n",
    "\n",
    "# apply on-site electric fields to the wannier orbitals\n",
    "c = 6.576*4.0316*0.529177\n",
    "z_pos = model.pos[:,2]*c\n",
    "\n",
    "z_pos_sym = z_pos.copy()\n",
    "for iz in np.arange(z_pos.shape[0]):\n",
    "    z_pos_sym[iz] = 0.5*(z_pos[iz]+z_pos[iz+(-1)**(iz%2)])"
   ]
  },
  {
   "cell_type": "code",
   "execution_count": 4,
   "metadata": {},
   "outputs": [],
   "source": [
    "# generate a list of k points along the -X-Gamma-X path\n",
    "nk = 101\n",
    "kx_list = np.linspace(-0.5,0.5,nk)\n",
    "k_list = [[kx,0,0] for kx in kx_list]"
   ]
  },
  {
   "cell_type": "code",
   "execution_count": 5,
   "metadata": {},
   "outputs": [
    {
     "name": "stdout",
     "output_type": "stream",
     "text": [
      "efield, efermi: -0.5 -1.2299713816153979\n",
      "efield, efermi: -0.35 -0.16649843697765065\n",
      "efield, efermi: -0.3 0.1939483756608003\n",
      "efield, efermi: -0.2 0.9211341365594877\n",
      "efield, efermi: 0 2.3825020706388162\n",
      "efield, efermi: 0.2 3.768758576073611\n",
      "efield, efermi: 0.3 4.4657253166413735\n",
      "efield, efermi: 0.35 4.817502850291614\n",
      "efield, efermi: 0.5 5.890618010607989\n"
     ]
    }
   ],
   "source": [
    "# generate the band structure on a given k-path for the following efields\n",
    "efields = [-0.5, -0.35, -0.3, -0.2, 0, 0.2, 0.3, 0.35, 0.5]\n",
    "\n",
    "with h5py.File(\"./data/bulk_bands_efields.h5\", 'w') as f:\n",
    "    f.create_dataset(\"kx_list\", data=kx_list)\n",
    "    for efield in efields:\n",
    "        h0_k = model.hamilton(k_list)\n",
    "        h_k = [apply_efield(h0,efield,z_pos) for h0 in h0_k]\n",
    "        eigvals, eigvecs = np.linalg.eigh(h_k)\n",
    "        vbm, cbm, efermi = find_efermi_bands(eigvals, nfilling)\n",
    "        print(\"efield, efermi:\", efield, efermi)\n",
    "        # save the eigvals and eigvecs to the file\n",
    "        f.create_dataset(f\"e{efield}/eigvals\", data=eigvals-efermi)\n",
    "        f.create_dataset(f\"e{efield}/eigvecs\", data=eigvecs)\n",
    "        f.create_dataset(f\"e{efield}/vbm\", data=vbm-efermi)\n",
    "        f.create_dataset(f\"e{efield}/cbm\", data=cbm-efermi)\n",
    "        f.create_dataset(f\"e{efield}/efermi\", data=efermi)\n"
   ]
  }
 ],
 "metadata": {
  "kernelspec": {
   "display_name": "pyqmc_dev",
   "language": "python",
   "name": "python3"
  },
  "language_info": {
   "codemirror_mode": {
    "name": "ipython",
    "version": 3
   },
   "file_extension": ".py",
   "mimetype": "text/x-python",
   "name": "python",
   "nbconvert_exporter": "python",
   "pygments_lexer": "ipython3",
   "version": "3.9.7"
  }
 },
 "nbformat": 4,
 "nbformat_minor": 2
}
