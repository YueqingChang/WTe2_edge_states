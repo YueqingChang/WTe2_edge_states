{
 "cells": [
  {
   "cell_type": "code",
   "execution_count": 1,
   "metadata": {},
   "outputs": [],
   "source": [
    "import numpy as np\n",
    "import tbmodels\n",
    "import h5py"
   ]
  },
  {
   "cell_type": "code",
   "execution_count": 2,
   "metadata": {},
   "outputs": [],
   "source": [
    "def apply_efield(h0,efield,z_pos):\n",
    "    h = h0.copy()\n",
    "    for i in np.arange(h0.shape[0]):\n",
    "        h[i,i] = h0[i,i]+efield*z_pos[i]\n",
    "    return h\n",
    "\n",
    "def find_efermi_uniform_sampled_BZ(eigvals_all, nfilling, nk):\n",
    "    nelec_tot = nfilling * nk\n",
    "    eigvals_all_sorted = np.sort(eigvals_all.flatten())\n",
    "    vbm = eigvals_all_sorted[nelec_tot-1]\n",
    "    cbm = eigvals_all_sorted[nelec_tot]\n",
    "    efermi = (vbm + cbm) / 2\n",
    "    return vbm, cbm, efermi"
   ]
  },
  {
   "cell_type": "code",
   "execution_count": 3,
   "metadata": {},
   "outputs": [],
   "source": [
    "# generate a list of uniformly sampled k points in the BZ\n",
    "nk = 21\n",
    "k_x = np.linspace(-0.5, 0.5, nk+1)[:-1]\n",
    "k_y = np.linspace(-0.5, 0.5, nk+1)[:-1]\n",
    "# make a 2D grid of k points\n",
    "kpoints = np.array([[kx, ky, 0] for kx in k_x for ky in k_y])"
   ]
  },
  {
   "cell_type": "code",
   "execution_count": 4,
   "metadata": {},
   "outputs": [],
   "source": [
    "nwann = 56\n",
    "nfilling = 36\n",
    "\n",
    "wpath = f\"../tb_model/model_o{nwann}/\"\n",
    "\n",
    "model = tbmodels.Model.from_wannier_files(\n",
    "            hr_file = f'{wpath}/wte2.o{nwann}_hr.dat',\n",
    "            xyz_file = f'{wpath}/wte2.o{nwann}_centres.xyz',\n",
    "            win_file = f'{wpath}/wte2.o{nwann}.win')\n",
    "\n",
    "# apply on-site electric fields to the wannier orbitals\n",
    "c = 6.576*4.0316*0.529177\n",
    "z_pos = model.pos[:,2]*c\n",
    "\n",
    "z_pos_sym = z_pos.copy()\n",
    "for iz in np.arange(z_pos.shape[0]):\n",
    "    z_pos_sym[iz] = 0.5*(z_pos[iz]+z_pos[iz+(-1)**(iz%2)])"
   ]
  },
  {
   "cell_type": "code",
   "execution_count": 7,
   "metadata": {},
   "outputs": [
    {
     "name": "stdout",
     "output_type": "stream",
     "text": [
      "efield, efermi: -0.5 -1.2108392009824005\n",
      "efield, efermi: -0.35 -0.13527981027828917\n",
      "efield, efermi: -0.3 0.22463188082338306\n",
      "efield, efermi: -0.2 0.9461977974906194\n",
      "efield, efermi: -0.15 1.3077151476500841\n",
      "efield, efermi: -0.1 1.669630781311645\n",
      "efield, efermi: -0.05 2.0318830226347506\n",
      "efield, efermi: 0.0 2.3945329176082515\n",
      "efield, efermi: 0.05 2.7441479834537024\n",
      "efield, efermi: 0.1 3.093929302906691\n",
      "efield, efermi: 0.15 3.444042827302647\n",
      "efield, efermi: 0.2 3.794554643497816\n",
      "efield, efermi: 0.3 4.497052037735717\n",
      "efield, efermi: 0.35 4.849175356356369\n",
      "efield, efermi: 0.5 5.9097297738682695\n"
     ]
    }
   ],
   "source": [
    "# generate the band structure on a given k-path for the following efields\n",
    "efields = [-0.5, -0.35, -0.3, -0.2,-0.15, -0.1, -0.05, 0.0, 0.05, 0.1, 0.15, 0.2, 0.3, 0.35, 0.5]\n",
    "\n",
    "with h5py.File(\"./data/bulk_uniform_sampled_BZ_efields.h5\", 'w') as f:\n",
    "    f.create_dataset(\"kpoints\", data=kpoints)\n",
    "    for efield in efields:\n",
    "        h0_k = model.hamilton(kpoints)\n",
    "        h_k = [apply_efield(h0,efield,z_pos) for h0 in h0_k]\n",
    "        eigvals, eigvecs = np.linalg.eigh(h_k)\n",
    "        vbm, cbm, efermi = find_efermi_uniform_sampled_BZ(eigvals, nfilling, nk*nk)\n",
    "        print(\"efield, efermi:\", efield, efermi)\n",
    "        # save the eigvals and eigvecs to the file\n",
    "        f.create_dataset(f\"e{efield}/eigvals\", data=eigvals-efermi)\n",
    "        # f.create_dataset(f\"e{efield}/eigvecs\", data=eigvecs)\n",
    "        f.create_dataset(f\"e{efield}/vbm\", data=vbm-efermi)\n",
    "        f.create_dataset(f\"e{efield}/cbm\", data=cbm-efermi)\n",
    "        f.create_dataset(f\"e{efield}/efermi\", data=efermi)\n"
   ]
  }
 ],
 "metadata": {
  "kernelspec": {
   "display_name": "pyqmc_dev",
   "language": "python",
   "name": "python3"
  },
  "language_info": {
   "codemirror_mode": {
    "name": "ipython",
    "version": 3
   },
   "file_extension": ".py",
   "mimetype": "text/x-python",
   "name": "python",
   "nbconvert_exporter": "python",
   "pygments_lexer": "ipython3",
   "version": "3.9.7"
  }
 },
 "nbformat": 4,
 "nbformat_minor": 2
}
