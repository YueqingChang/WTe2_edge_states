{
 "cells": [
  {
   "cell_type": "code",
   "execution_count": 1,
   "metadata": {},
   "outputs": [],
   "source": [
    "import numpy as np\n",
    "import tbmodels\n",
    "import pandas as pd\n",
    "import h5py"
   ]
  },
  {
   "cell_type": "code",
   "execution_count": 14,
   "metadata": {},
   "outputs": [],
   "source": [
    "def apply_efield(h0,efield,z_pos):\n",
    "    h = h0.copy()\n",
    "    for i in np.arange(h0.shape[0]):\n",
    "        h[i,i] = h0[i,i]+efield*z_pos[i]\n",
    "    return h\n",
    "\n",
    "# the hopping terms out of 4 unit cells are generally zero.\n",
    "# in order to construct a hamiltonian for the ribbon, set the hopping terms between the 1st and the last 8 unit cells to be zero,\n",
    "# the terms between 2nd and the last 7 unit cells to be zero, and so on.\n",
    "# This is hard-coded. Maybe we can do it in a more elegant way.\n",
    "orb_cut = 4\n",
    "def get_ribbon_ham(h0, orb_cut, nwann=56):\n",
    "    h = h0.copy()\n",
    "    for i in range(1,orb_cut+1):\n",
    "        h[nwann*(i-1):nwann*i,-(orb_cut-i+1)*nwann:]=0.0\n",
    "        h[-(orb_cut-i+1)*nwann:,nwann*(i-1):nwann*i]=0.0\n",
    "    return h"
   ]
  },
  {
   "cell_type": "code",
   "execution_count": 15,
   "metadata": {},
   "outputs": [],
   "source": [
    "nwann = 56\n",
    "ribbon_width = 20\n",
    "nkpt = 101\n",
    "\n",
    "wpath = f\"../tb_model/model_o{nwann}/\"\n",
    "\n",
    "model = tbmodels.Model.from_wannier_files(\n",
    "            hr_file = f'{wpath}/wte2.o{nwann}_hr.dat',\n",
    "            xyz_file = f'{wpath}/wte2.o{nwann}_centres.xyz',\n",
    "            win_file = f'{wpath}/wte2.o{nwann}.win')"
   ]
  },
  {
   "cell_type": "code",
   "execution_count": 16,
   "metadata": {},
   "outputs": [],
   "source": [
    "# The ribbon length has to be >= 16, since the hoppings are discarded\n",
    "# across 8 more unit cells\n",
    "model_sc = model.supercell([1,ribbon_width,1]) \n",
    "# ribbon width along the y direction\n",
    "\n",
    "k1 = np.linspace(-0.5,0.5,nkpt)\n",
    "k_list = [[ik1,0.0,0.0] for ik1 in k1]\n",
    "\n",
    "# apply on-site electric fields to the wannier orbitals\n",
    "c = 6.576*4.0316*0.529177\n",
    "z_pos = model_sc.pos[:,2]*c\n",
    "\n",
    "z_pos_sym = z_pos.copy()\n",
    "for iz in np.arange(z_pos.shape[0]):\n",
    "    z_pos_sym[iz] = 0.5*(z_pos[iz]+z_pos[iz+(-1)**(iz%2)])"
   ]
  },
  {
   "cell_type": "code",
   "execution_count": 17,
   "metadata": {},
   "outputs": [],
   "source": [
    "out_path = './'\n",
    "myham0 = model_sc.hamilton(k=k_list)\n",
    "efield_list = [0.1]"
   ]
  },
  {
   "cell_type": "code",
   "execution_count": 20,
   "metadata": {},
   "outputs": [],
   "source": [
    "h_diff = ih_tmp - ih"
   ]
  },
  {
   "cell_type": "code",
   "execution_count": 19,
   "metadata": {},
   "outputs": [],
   "source": [
    "bands_chosen = np.arange(32*ribbon_width, 40*ribbon_width+1, 1)\n",
    "for efield in efield_list:\n",
    "    output_file = f\"./data/ribbon_efield{efield}_w{ribbon_width}.hdf5\"\n",
    "    with h5py.File(output_file, 'w') as f:\n",
    "        f.create_dataset(\"efield\", data=efield)\n",
    "        f.create_dataset(\"bands_chosen\", data = bands_chosen)\n",
    "        for ik, ik1, ih in zip(np.arange(nkpt), k1, myham0):\n",
    "            ih_tmp = apply_efield(ih,efield,z_pos_sym)\n",
    "            h_ribbon = get_ribbon_ham(ih_tmp, orb_cut)\n",
    "            eigvals, eigvecs = np.linalg.eigh(h_ribbon)\n",
    "            \n",
    "            f.create_dataset(f\"ik{ik}/k\", data=[ik1, 0.0, 0.0])\n",
    "            f.create_dataset(f\"ik{ik}/eigvals\", data=eigvals)\n",
    "            f.create_dataset(f\"ik{ik}/eigvecs_bands_selected\", data=eigvecs[:, bands_chosen])\n"
   ]
  }
 ],
 "metadata": {
  "kernelspec": {
   "display_name": "pyqmc_dev",
   "language": "python",
   "name": "python3"
  },
  "language_info": {
   "codemirror_mode": {
    "name": "ipython",
    "version": 3
   },
   "file_extension": ".py",
   "mimetype": "text/x-python",
   "name": "python",
   "nbconvert_exporter": "python",
   "pygments_lexer": "ipython3",
   "version": "3.9.7"
  }
 },
 "nbformat": 4,
 "nbformat_minor": 2
}
