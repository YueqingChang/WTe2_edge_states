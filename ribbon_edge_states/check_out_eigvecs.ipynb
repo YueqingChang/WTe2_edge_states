{
 "cells": [
  {
   "cell_type": "code",
   "execution_count": 1,
   "metadata": {},
   "outputs": [],
   "source": [
    "import numpy as np\n",
    "import h5py\n",
    "import matplotlib.pyplot as plt"
   ]
  },
  {
   "cell_type": "code",
   "execution_count": 2,
   "metadata": {},
   "outputs": [],
   "source": [
    "# load the ribbon data\n",
    "# parameters\n",
    "efield = 0.0\n",
    "nk = 801\n",
    "nwann = 56\n",
    "nfilling_per_uc = 36\n",
    "ribbon_width = 25\n",
    "eigvals_all, ks = [], []\n",
    "eigvecs_sel = []\n",
    "\n",
    "with h5py.File(f\"./data/ribbon_efield{efield}.hdf5\", 'r') as f:\n",
    "    bands_chosen = f[\"bands_chosen\"][()]\n",
    "    for ik in np.arange(nk):\n",
    "        ks.append(f[f\"ik{ik}/k\"][()])\n",
    "        eigvals_all.append(f[f\"ik{ik}/eigvals\"][()])\n",
    "        eigvecs_sel.append(f[f\"ik{ik}/eigvecs_bands_selected\"][()])\n",
    "    \n",
    "ks = np.array(ks)\n",
    "eigvals_all = np.array(eigvals_all)  # (nk, nbands_tot)\n",
    "eigvecs_sel = np.array(eigvecs_sel)  # (nk, norb, bands_selected)\n",
    "\n",
    "# get the projection of each eigenvec onto the first and last unit cell\n",
    "psi2 = eigvecs_sel * eigvecs_sel.conj()\n",
    "\n",
    "# the indices of the orbitals of the initial and the final cell\n",
    "celli_indx = np.arange(nwann)\n",
    "cellf_indx = np.arange(nwann*(ribbon_width-1), nwann*ribbon_width)\n",
    "proj_celli = np.sum(psi2[:,celli_indx,:], axis=1)\n",
    "proj_cellf = np.sum(psi2[:,cellf_indx,:], axis=1)\n",
    "proj_bulk = np.sum(psi2, axis=1) - proj_celli - proj_cellf"
   ]
  },
  {
   "cell_type": "code",
   "execution_count": 9,
   "metadata": {},
   "outputs": [
    {
     "data": {
      "text/plain": [
       "((801, 201), (801, 1400, 201), (801, 3))"
      ]
     },
     "execution_count": 9,
     "metadata": {},
     "output_type": "execute_result"
    }
   ],
   "source": [
    "proj_celli.shape, eigvecs_sel.shape, ks.shape"
   ]
  },
  {
   "cell_type": "code",
   "execution_count": 8,
   "metadata": {},
   "outputs": [
    {
     "data": {
      "text/plain": [
       "array([[2.04449592e-02+0.j, 2.04487616e-02+0.j, 9.91798054e-04+0.j, ...,\n",
       "        8.60372852e-06+0.j, 8.58372218e-06+0.j, 5.14758376e-01+0.j],\n",
       "       [2.31134148e-02+0.j, 1.80175111e-02+0.j, 9.44622606e-04+0.j, ...,\n",
       "        9.78254527e-06+0.j, 7.64255764e-06+0.j, 5.11943542e-01+0.j],\n",
       "       [2.59906900e-02+0.j, 1.58365842e-02+0.j, 9.01863921e-04+0.j, ...,\n",
       "        1.12715589e-05+0.j, 6.88081423e-06+0.j, 5.08526065e-01+0.j],\n",
       "       ...,\n",
       "       [2.59906642e-02+0.j, 1.58369876e-02+0.j, 9.01295190e-04+0.j, ...,\n",
       "        1.12747232e-05+0.j, 6.87833837e-06+0.j, 5.08525428e-01+0.j],\n",
       "       [2.31132659e-02+0.j, 1.80178471e-02+0.j, 9.44161861e-04+0.j, ...,\n",
       "        9.78542500e-06+0.j, 7.64000183e-06+0.j, 5.11943646e-01+0.j],\n",
       "       [2.04449592e-02+0.j, 2.04487616e-02+0.j, 9.91798054e-04+0.j, ...,\n",
       "        8.60372852e-06+0.j, 8.58372218e-06+0.j, 5.14758376e-01+0.j]])"
      ]
     },
     "execution_count": 8,
     "metadata": {},
     "output_type": "execute_result"
    }
   ],
   "source": [
    "proj_celli"
   ]
  }
 ],
 "metadata": {
  "kernelspec": {
   "display_name": "pyqmc_dev",
   "language": "python",
   "name": "python3"
  },
  "language_info": {
   "codemirror_mode": {
    "name": "ipython",
    "version": 3
   },
   "file_extension": ".py",
   "mimetype": "text/x-python",
   "name": "python",
   "nbconvert_exporter": "python",
   "pygments_lexer": "ipython3",
   "version": "3.9.2"
  }
 },
 "nbformat": 4,
 "nbformat_minor": 2
}
